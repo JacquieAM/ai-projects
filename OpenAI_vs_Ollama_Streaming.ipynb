{
 "cells": [
  {
   "cell_type": "markdown",
   "id": "fe12c203-e6a6-452c-a655-afb8a03a4ff5",
   "metadata": {},
   "source": [
    "# OpenAI vs Ollama Streaming\n",
    "\n",
    "This notebook demonstrates how to stream responses from large language models using both **OpenAI’s API** and **Ollama (local models)**.  \n",
    "It highlights the differences between cloud-based and local inference, showing how streaming delivers tokens in real time instead of waiting for a full response.  \n"
   ]
  },
  {
   "cell_type": "code",
   "execution_count": null,
   "id": "c1070317-3ed9-4659-abe3-828943230e03",
   "metadata": {},
   "outputs": [],
   "source": [
    "# imports\n",
    "import os\n",
    "import requests\n",
    "from IPython.display import Markdown, display, update_display\n",
    "from dotenv import load_dotenv\n",
    "from openai import OpenAI"
   ]
  },
  {
   "cell_type": "code",
   "execution_count": null,
   "id": "2ec53ced-d3ef-4255-8fea-ff293fdfbfdb",
   "metadata": {},
   "outputs": [],
   "source": [
    "# ollama api\n",
    "OLLAMA_API = \"http://localhost:11434/api/chat\"\n",
    "HEADERS = {\"Content-Type\": \"application/json\"}\n",
    "MODEL_LLAMA = \"llama3.2\"\n"
   ]
  },
  {
   "cell_type": "code",
   "execution_count": null,
   "id": "4a456906-915a-4bfd-bb9d-57e505c5093f",
   "metadata": {},
   "outputs": [],
   "source": [
    "# constants\n",
    "\n",
    "MODEL_GPT = 'gpt-4o-mini'\n",
    "MODEL_LLAMA = 'llama3.2'"
   ]
  },
  {
   "cell_type": "code",
   "execution_count": null,
   "id": "a8d7923c-5f28-4c30-8556-342d7c8497c1",
   "metadata": {},
   "outputs": [],
   "source": [
    "# load ollama\n",
    "!ollama pull llama3.2"
   ]
  },
  {
   "cell_type": "code",
   "execution_count": null,
   "id": "c0115c21-d101-48aa-a33e-a3e3936623b6",
   "metadata": {},
   "outputs": [],
   "source": [
    "response = request"
   ]
  },
  {
   "cell_type": "code",
   "execution_count": null,
   "id": "98634294-9eba-4c07-83ed-109e5a7f8c50",
   "metadata": {},
   "outputs": [],
   "source": [
    "# load key from open ai\n",
    "load_dotenv(override=True)\n",
    "api_key = os.getenv('OPENAI_API_KEY')\n",
    "\n",
    "if api_key and api_key.startswith('sk-proj-') and len(api_key)>10:\n",
    "    print(\"API key looks good so far\")\n",
    "else:\n",
    "    print(\"There might be a problem with your API key?\")\n",
    "openai = OpenAI()    "
   ]
  },
  {
   "cell_type": "code",
   "execution_count": null,
   "id": "40d05e17-a9b8-4bf4-9c84-5522a5739a8c",
   "metadata": {},
   "outputs": [],
   "source": [
    "# from openai import OpenAI\n",
    "ollama_via_openai = OpenAI(base_url='http://localhost:11434/v1', api_key='ollama')\n",
    "\n"
   ]
  },
  {
   "cell_type": "code",
   "execution_count": null,
   "id": "b30e9f70-86a7-4cd4-82df-6568e150e1fa",
   "metadata": {},
   "outputs": [],
   "source": [
    "system_prompt = \"You are an expert in quantum computing, you explain topics step by step,\\\n",
    "using simple language, analogies and concise explanations that even a beginner \\\n",
    "can understand.\""
   ]
  },
  {
   "cell_type": "code",
   "execution_count": null,
   "id": "3f0d0137-52b0-47a8-81a8-11a90a010798",
   "metadata": {},
   "outputs": [],
   "source": [
    "# here is the question; type over this to ask something new\n",
    "\n",
    "question = \"\"\"\n",
    "Please explain quantum entanglement in simple terms\n",
    "\"\"\""
   ]
  },
  {
   "cell_type": "code",
   "execution_count": null,
   "id": "b4b5bcfd-f552-41f0-b254-36a8864a30ac",
   "metadata": {},
   "outputs": [],
   "source": [
    "messages = [\n",
    "    {\"role\": \"system\", \"content\": system_prompt},\n",
    "    {\"role\": \"user\", \"content\": question}\n",
    "]\n",
    "    "
   ]
  },
  {
   "cell_type": "code",
   "execution_count": null,
   "id": "60ce7000-a4a5-4cce-a261-e75ef45063b4",
   "metadata": {},
   "outputs": [],
   "source": [
    "# Get gpt-4o-mini to answer, with streaming\n",
    "def stream_answer():\n",
    "    stream = openai.chat.completions.create(\n",
    "        model=MODEL_GPT,\n",
    "        messages=messages,\n",
    "        stream=True\n",
    "    )\n",
    "    response = \"\"\n",
    "    display_handle = display(Markdown(\"\"), display_id=True)\n",
    "    for chunk in stream:\n",
    "        response += chunk.choices[0].delta.content or ''\n",
    "        response = response.replace(\"```\",\"\").replace(\"markdown\", \"\")\n",
    "        update_display(Markdown(response), display_id=display_handle.display_id)"
   ]
  },
  {
   "cell_type": "code",
   "execution_count": null,
   "id": "43d8f889-7f91-4f68-a713-0d39319c0d99",
   "metadata": {},
   "outputs": [],
   "source": [
    "stream_answer()"
   ]
  },
  {
   "cell_type": "code",
   "execution_count": null,
   "id": "452ceebb-c67c-4ed4-a982-f4a3a042beff",
   "metadata": {},
   "outputs": [],
   "source": [
    "# Get Llama 3.2 to answer, with streaming\n",
    "def stream_answer_ollama():\n",
    "    stream = ollama_via_openai.chat.completions.create(\n",
    "        model=MODEL_LLAMA,\n",
    "        messages=messages,\n",
    "        stream=True\n",
    "    )\n",
    "    response = \"\"\n",
    "    display_handle = display(Markdown(\"\"), display_id=True)\n",
    "    for chunk in stream:\n",
    "        response += chunk.choices[0].delta.content or ''\n",
    "        response = response.replace(\"```\",\"\").replace(\"markdown\", \"\")\n",
    "        update_display(Markdown(response), display_id=display_handle.display_id)"
   ]
  },
  {
   "cell_type": "code",
   "execution_count": null,
   "id": "0e7ec087-03b9-4ee5-90e7-9c68141c9192",
   "metadata": {},
   "outputs": [],
   "source": [
    "stream_answer_ollama()"
   ]
  },
  {
   "cell_type": "code",
   "execution_count": null,
   "id": "c90f6403-b6c8-46ec-996b-212a39d21cd7",
   "metadata": {},
   "outputs": [],
   "source": []
  },
  {
   "cell_type": "code",
   "execution_count": null,
   "id": "a3767ffe-e7b0-4756-a30e-e81d783cc0f3",
   "metadata": {},
   "outputs": [],
   "source": []
  },
  {
   "cell_type": "code",
   "execution_count": null,
   "id": "398733eb-4eae-41a8-afbd-71a72789150b",
   "metadata": {},
   "outputs": [],
   "source": []
  },
  {
   "cell_type": "code",
   "execution_count": null,
   "id": "4bfb5094-c4f1-4bf0-aa98-74aa97622425",
   "metadata": {},
   "outputs": [],
   "source": []
  },
  {
   "cell_type": "code",
   "execution_count": null,
   "id": "e9842d87-d15d-4722-b8c4-a5c627d7d966",
   "metadata": {},
   "outputs": [],
   "source": []
  },
  {
   "cell_type": "code",
   "execution_count": null,
   "id": "de1a5752-588a-44ac-8dd0-31d3791ecde3",
   "metadata": {},
   "outputs": [],
   "source": []
  }
 ],
 "metadata": {
  "kernelspec": {
   "display_name": "Python 3 (ipykernel)",
   "language": "python",
   "name": "python3"
  },
  "language_info": {
   "codemirror_mode": {
    "name": "ipython",
    "version": 3
   },
   "file_extension": ".py",
   "mimetype": "text/x-python",
   "name": "python",
   "nbconvert_exporter": "python",
   "pygments_lexer": "ipython3",
   "version": "3.11.13"
  }
 },
 "nbformat": 4,
 "nbformat_minor": 5
}
