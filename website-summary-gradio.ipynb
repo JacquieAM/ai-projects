{
 "cells": [
  {
   "cell_type": "code",
   "execution_count": null,
   "id": "9ab446e4-219c-4589-aa8f-9386adcf5c60",
   "metadata": {},
   "outputs": [],
   "source": [
    "# Project Overview  \n",
    "\n",
    "This project explores the capabilities of different AI models, including **OpenAI’s GPT** and **Ollama**, to summarize online training content. It extracts material from Microsoft’s **Quantum Computing Fundamentals** learning path, processes it lesson by lesson, and generates concise summaries as well as overall course-level insights. Users can now interactively choose whether to summarize a single lesson, an entire module, or all lessons combined, and compare outputs from different models in real time.  \n",
    "\n",
    "## Key Features  \n",
    "\n",
    "- **Lesson-level Summaries**: Generates summaries for each individual lesson inside every module.  \n",
    "- **Full-course Summaries**: Aggregates all lesson summaries into an overall training path summary.  \n",
    "- **Dual Model Support**: Works with both **GPT** (via OpenAI) and **Ollama** backends.  \n",
    "- **Interactive Interface**: Uses **Gradio** for a simple, user-friendly interface that allows users to:  \n",
    "  - Select a model (GPT or Ollama)  \n",
    "  - Choose lesson length/detail (short, medium, detailed)  \n",
    "  - Pick language for the summaries  \n",
    "  - Select a specific lesson or summarize all lessons at once  \n",
    "- **Clean Markdown Output**: Summaries are formatted in Markdown, making results structured and easy to read.  \n",
    "\n",
    "## Tech Stack  \n",
    "\n",
    "- **Models**: GPT-4o-mini, Ollama  \n",
    "- **Interface**: Gradio  \n",
    "- **Language**: Python  \n",
    "- **Libraries**: BeautifulSoup, OpenAI  \n",
    "\n",
    "## Purpose  \n",
    "\n",
    "This project demonstrates how AI can streamline understanding of technical documentation and online courses, not only by summarizing modules but also by breaking them down lesson by lesson. It highlights differences in performance and output quality between models while offering an interactive way for users to explore and compare results.  \n"
   ]
  },
  {
   "cell_type": "code",
   "execution_count": null,
   "id": "4e2a9393-7767-488e-a8bf-27c12dca35bd",
   "metadata": {},
   "outputs": [],
   "source": [
    "# imports\n",
    "\n",
    "import os\n",
    "import requests\n",
    "from dotenv import load_dotenv\n",
    "from bs4 import BeautifulSoup\n",
    "from IPython.display import Markdown, display\n",
    "from openai import OpenAI\n",
    "import gradio as gr\n",
    "\n",
    "# If you get an error running this cell, then please head over to the troubleshooting notebook!"
   ]
  },
  {
   "cell_type": "code",
   "execution_count": null,
   "id": "7b87cadb-d513-4303-baee-a37b6f938e4d",
   "metadata": {},
   "outputs": [],
   "source": [
    "# Load environment variables  from .env file (not included)\n",
    "\n",
    "load_dotenv(override=True)\n",
    "api_key = os.getenv('OPENAI_API_KEY')\n",
    "\n",
    "# Check the key\n",
    "\n",
    "if not api_key:\n",
    "    print(\"No API key was found\")\n",
    "elif not api_key.startswith(\"sk-proj-\"):\n",
    "    print(\"An API key was found, but it doesn't start sk-proj-; please check you're using the right key\")\n",
    "elif api_key.strip() != api_key:\n",
    "    print(\"An API key was found, but it looks like it might have space or tab characters at the start or end - please remove them\")\n",
    "else:\n",
    "    print(\"API key found and looks good so far!\")\n"
   ]
  },
  {
   "cell_type": "code",
   "execution_count": null,
   "id": "019974d9-f3ad-4a8a-b5f9-0a3719aea2d3",
   "metadata": {},
   "outputs": [],
   "source": [
    "openai = OpenAI()\n",
    "\n",
    "# If this doesn't work, try Kernel menu >> Restart Kernel and Clear Outputs Of All Cells, then run the cells from the top of this notebook down.\n"
   ]
  },
  {
   "cell_type": "code",
   "execution_count": null,
   "id": "fe5c7af1-f525-4a88-87ca-e85eeff70393",
   "metadata": {},
   "outputs": [],
   "source": [
    "# ollama api\n",
    "OLLAMA_API = \"http://localhost:11434/api/chat\"\n",
    "HEADERS = {\"Content-Type\": \"application/json\"}\n",
    "MODEL_LLAMA = \"llama3.2\""
   ]
  },
  {
   "cell_type": "code",
   "execution_count": null,
   "id": "a6c172e0-3b9c-4ac1-ba69-45e0d6c11695",
   "metadata": {},
   "outputs": [],
   "source": [
    "!ollama pull llama3.2"
   ]
  },
  {
   "cell_type": "code",
   "execution_count": null,
   "id": "45562f67-6814-4e8f-bf8a-214480b76f2e",
   "metadata": {},
   "outputs": [],
   "source": [
    "ollama_via_openai = OpenAI(base_url='http://localhost:11434/v1', api_key='ollama')"
   ]
  },
  {
   "cell_type": "code",
   "execution_count": null,
   "id": "c5e793b2-6775-426a-a139-4848291d0463",
   "metadata": {},
   "outputs": [],
   "source": [
    "# A class to represent a Webpage\n",
    "\n",
    "# Some websites need you to use proper headers when fetching them:\n",
    "headers = {\n",
    " \"User-Agent\": \"Mozilla/5.0 (Windows NT 10.0; Win64; x64) AppleWebKit/537.36 (KHTML, like Gecko) Chrome/117.0.0.0 Safari/537.36\"\n",
    "}\n",
    "\n",
    "class Website:\n",
    "\n",
    "    def __init__(self, url):\n",
    "        \"\"\"\n",
    "        Create this Website object from the given url using the BeautifulSoup library\n",
    "        \"\"\"\n",
    "        self.url = url\n",
    "        response = requests.get(url, headers=headers)\n",
    "        soup = BeautifulSoup(response.content, 'html.parser')\n",
    "        self.title = soup.title.string if soup.title else \"No title found\"\n",
    "        for irrelevant in soup.body([\"script\", \"style\", \"img\", \"input\"]):\n",
    "            irrelevant.decompose()\n",
    "        self.text = soup.body.get_text(separator=\"\\n\", strip=True)\n",
    "\n",
    "        links = [a.get(\"href\") for a in soup.find_all(\"a\", href=True)]\n",
    "        self.links = [link.strip() for link in links if link]"
   ]
  },
  {
   "cell_type": "code",
   "execution_count": null,
   "id": "abdb8417-c5dc-44bc-9bee-2e059d162699",
   "metadata": {},
   "outputs": [],
   "source": [
    "# Create a system prompt function that can use different language and length \n",
    "\n",
    "def build_system_prompt(language=\"Spanish\", length=\"short\"):\n",
    "    return f\"\"\"You are an assistant that analyzes the contents of a website and provides a {length} summary, ignoring text that might be navigation related.\n",
    "    Respond in markdown, and respond in {language}.\n",
    "    \"\"\"\n",
    "    \n",
    "    \n",
    "                        "
   ]
  },
  {
   "cell_type": "code",
   "execution_count": null,
   "id": "987c95a6-6618-4d22-a2c3-3038a9d3f154",
   "metadata": {},
   "outputs": [],
   "source": [
    "# Create a function that writes a User Prompt that asks for summaries of websites:\n",
    "\n",
    "def user_prompt_for(website):\n",
    "    user_prompt = f\"You are looking at a website titled {website.title}\"\n",
    "    user_prompt += \"\\nThe contents of this website is as follows; \\\n",
    "please provide a {length} summary in {language} of this website in markdown. \\\n",
    "If it includes news or announcements, then summarize these too.\\n\\n\"\n",
    "    user_prompt += website.text\n",
    "    return user_prompt"
   ]
  },
  {
   "cell_type": "code",
   "execution_count": null,
   "id": "0134dfa4-8299-48b5-b444-f2a8c3403c88",
   "metadata": {},
   "outputs": [],
   "source": [
    "\n",
    "def messages_for(website, language, length):\n",
    "    return [\n",
    "        {\"role\": \"system\", \"content\": build_system_prompt(language, length)},\n",
    "        {\"role\": \"user\", \"content\": user_prompt_for(website)}\n",
    "    ]"
   ]
  },
  {
   "cell_type": "code",
   "execution_count": null,
   "id": "1500db48-beab-44eb-b20f-f31a00b7425f",
   "metadata": {},
   "outputs": [],
   "source": [
    "link_system_prompt = \"\"\"\n",
    "You are provided with a list of links found on a Microsoft Learn training page.\n",
    "\n",
    "Decide which of the links are lessons within the Quantum Computing Fundamentals training path\n",
    "(https://learn.microsoft.com/en-us/training/paths/quantum-computing-fundamentals/).\n",
    "\n",
    "- Only include links that are actual lesson/module pages within this training path.\n",
    "- Replace relative links (like /training/modules/...) with full https://learn.microsoft.com/... URLs.\n",
    "- Ignore links to navigation, terms of service, privacy, blogs, or anything not part of this course.\n",
    "\n",
    "You should respond in JSON in this format:\n",
    "\n",
    "{\n",
    "    \"links\": [\n",
    "        {\"type\": \"lesson\", \"url\": \"https://learn.microsoft.com/en-us/training/modules/intro-to-azure-quantum/1-introduction\"},\n",
    "        {\"type\": \"lesson\", \"url\": \"https://learn.microsoft.com/en-us/training/modules/intro-to-azure-quantum/2-what-is-quantum-compute\"}\n",
    "    ]\n",
    "}\n",
    "\"\"\"\n"
   ]
  },
  {
   "cell_type": "code",
   "execution_count": null,
   "id": "88e8a62a-b990-491a-9461-b27899a5080e",
   "metadata": {},
   "outputs": [],
   "source": [
    "def get_links_user_prompt(website):\n",
    "    user_prompt = (\n",
    "        f\"Here are the raw links scraped from {website.url}.\\n\"\n",
    "        \"Only include links that are lesson/module pages for the Quantum Computing Fundamentals path.\\n\"\n",
    "        \"A valid module URL will contain '/training/modules/'.\\n\"\n",
    "        \"Return a JSON object with an array 'links' where each item has type:'lesson' and url: full https URL.\\n\"\n",
    "        \"Do not include Terms of Service, Privacy, navigation, blog, external marketing, error pages, 404 pages, or mailto links.\\n\\n\"\n",
    "        \"Links (some may be relative):\\n\"\n",
    "        + \"\\n\".join(website.links)\n",
    "    )\n",
    "    return user_prompt\n"
   ]
  },
  {
   "cell_type": "code",
   "execution_count": null,
   "id": "ed87c297-2cfd-429c-aac4-ddc2e2a8e76f",
   "metadata": {},
   "outputs": [],
   "source": [
    "import json\n",
    "\n",
    "def get_links(url):\n",
    "    website = Website(url)   # Website.links should be the raw href list\n",
    "    response = openai.chat.completions.create(\n",
    "        model=\"gpt-4o-mini\",\n",
    "        messages=[\n",
    "            {\"role\": \"system\", \"content\": link_system_prompt},\n",
    "            {\"role\": \"user\", \"content\": get_links_user_prompt(website)}\n",
    "        ],\n",
    "        response_format={\"type\": \"json_object\"}\n",
    "    )\n",
    "    # parse model output (response.choices[0].message.content is JSON text)\n",
    "    result = response.choices[0].message.content\n",
    "    return json.loads(result)\n"
   ]
  },
  {
   "cell_type": "code",
   "execution_count": null,
   "id": "591a71c2-691f-46ed-a0f0-bfde526b05bd",
   "metadata": {},
   "outputs": [],
   "source": [
    "import json\n",
    "\n",
    "def get_links_ollama(url):\n",
    "    website = Website(url)   # Website.links should be the raw href list\n",
    "    response = ollama_via_openai.chat.completions.create(\n",
    "        model= MODEL_LLAMA,\n",
    "        messages=[\n",
    "            {\"role\": \"system\", \"content\": link_system_prompt},\n",
    "            {\"role\": \"user\", \"content\": get_links_user_prompt(website)}\n",
    "        ],\n",
    "        response_format={\"type\": \"json_object\"}\n",
    "    )\n",
    "    # parse model output (response.choices[0].message.content is JSON text)\n",
    "    result = response.choices[0].message.content\n",
    "    return json.loads(result)\n"
   ]
  },
  {
   "cell_type": "code",
   "execution_count": null,
   "id": "905b9919-aba7-45b5-ae65-81b3d1d78e34",
   "metadata": {},
   "outputs": [],
   "source": [
    "#call the OpenAI API. \n",
    "\n",
    "def summarize(url, language, length):\n",
    "    website = Website(url)\n",
    "    response = openai.chat.completions.create(\n",
    "        model= \"gpt-4o-mini\",\n",
    "        messages=messages_for(website, language, length)\n",
    "    )\n",
    "    return response.choices[0].message.content\n",
    "    "
   ]
  },
  {
   "cell_type": "code",
   "execution_count": null,
   "id": "875013c7-4686-4234-83ae-34aff2ecc3d2",
   "metadata": {},
   "outputs": [],
   "source": [
    "#call ollama \n",
    "\n",
    "def summarize_ollama(url, language, length):\n",
    "    website = Website(url)\n",
    "    response = ollama_via_openai.chat.completions.create(\n",
    "        model= MODEL_LLAMA,\n",
    "        messages=messages_for(website, language, length)\n",
    "    )\n",
    "    return response.choices[0].message.content\n",
    "    "
   ]
  },
  {
   "cell_type": "code",
   "execution_count": null,
   "id": "ad07c84c-aa5d-4ecf-8bf1-659bb3f2df40",
   "metadata": {},
   "outputs": [],
   "source": [
    "#Summarize all the lessons in microsoft quantum computer training\n",
    "from urllib.parse import urljoin\n",
    "\n",
    "def summarize_training(path_url, language, length):\n",
    "    # data = get_links(path_url) #returns json with links\n",
    "    all_lessons = get_lesson_choices(path_url) #returns json with links\n",
    "    # links = data.get(\"links\", []) # extract list of lesson dicts\n",
    "    print(f\"Found {len(all_lessons)} lessons\")\n",
    "\n",
    "    all_summaries = []\n",
    "\n",
    "    # for link in links:\n",
    "    #     url = link[\"url\"]\n",
    "    #     title = link.get(\"title\", url) #fallback if no title \n",
    "\n",
    "    for lesson_title, lesson_url in all_lessons[1:]:\n",
    "        if lesson_url.startswith(\"//\"):\n",
    "            lesson_url = \"https:\" + lesson_url\n",
    "        elif lesson_url.startswith(\"/\"):\n",
    "            lesson_url = urljoin(\"https://learn.microsoft.com\", lesson_url)\n",
    "        print(f\"Summarizing {lesson_title} ({lesson_url})...\")\n",
    "        summary = summarize(lesson_url, language, length)\n",
    "        all_summaries.append(f\"### {lesson_title}\\n{summary}\\n\")\n",
    "\n",
    "    combined_prompt = \"Here are summaries of each lesson:\\n\\n\" + \"\\n\".join(all_summaries)\n",
    "    response = openai.chat.completions.create(\n",
    "        model= \"gpt-4o-mini\",\n",
    "        messages=[\n",
    "            {\"role\": \"system\", \"content\": build_system_prompt(language, length)},\n",
    "            {\"role\": \"user\", \"content\": \"Please summarize the entire training path based on these lesson summaries:\\n\\n\" + combined_prompt}\n",
    "        ]\n",
    "    )\n",
    "\n",
    "    return \"\\n\".join(all_summaries) + \"\\n\\n## General Course Summary\\n\" + response.choices[0].message.content\n",
    "    "
   ]
  },
  {
   "cell_type": "code",
   "execution_count": null,
   "id": "ab105fa4-7bf3-4a45-abed-bc076f7465b0",
   "metadata": {},
   "outputs": [],
   "source": [
    "def get_lesson_choices(path_url):\n",
    "    data = get_links(path_url)\n",
    "    modules = data.get(\"links\", [])\n",
    "    all_lessons = []\n",
    "    # filtered = []\n",
    "\n",
    "    for module in modules:\n",
    "        module_url = module.get(\"url\")\n",
    "\n",
    "        #fetch module page to get title\n",
    "        module_site = Website(module_url)\n",
    "        module_title = module_site.title or \"Untitled Module\"\n",
    "\n",
    "        # go inside module page\n",
    "        module_data = get_links(module_url)\n",
    "        sublinks = module_data.get(\"links\", [])\n",
    "\n",
    "\n",
    "        for i, sub in enumerate(sublinks):\n",
    "            lesson_title = sub.get(\"title\", f\"Lesson {i+1}\")\n",
    "            full_title = f\"{module_title} - {lesson_title}\"\n",
    "            lesson_url = sub.get(\"url\")\n",
    "            all_lessons.append((full_title, lesson_url))\n",
    "\n",
    "    return [(\"All Lessons\", path_url)] + all_lessons"
   ]
  },
  {
   "cell_type": "code",
   "execution_count": null,
   "id": "eeda2624-c601-469c-9db6-6448865738f0",
   "metadata": {},
   "outputs": [],
   "source": [
    "#Summarize all the lessons in microsoft quantum computer training\n",
    "from urllib.parse import urljoin\n",
    "\n",
    "def summarize_training_ollama(path_url, language, length):\n",
    "    all_lessons = get_lesson_choices(path_url)\n",
    "\n",
    "    print(f\"Found {len(all_lessons)-1} lessons\")\n",
    "    all_summaries = []\n",
    "\n",
    "    for lesson_title, lesson_url in all_lessons[1:]:\n",
    "         if lesson_url.startswith(\"//\"):\n",
    "             lesson_url = \"https:\" + lesson_url\n",
    "         elif lesson_url.startswith(\"/\"):\n",
    "             lesson_url = urljoin(\"https://learn.microsoft.com\", lesson_url)\n",
    "             \n",
    "         print(f\"Summarizing {lesson_title} ({lesson_url})...\")\n",
    "         summary = summarize_ollama(lesson_url, language, length)\n",
    "         all_summaries.append(f\"### {lesson_title}\\n{summary}\\n\")\n",
    "\n",
    "    combined_prompt = \"Here are summaries of each lesson:\\n\\n\" + \"\\n\".join(all_summaries)\n",
    "    response = ollama_via_openai.chat.completions.create(\n",
    "        model= MODEL_LLAMA,\n",
    "        messages=[\n",
    "            {\"role\": \"system\", \"content\": build_system_prompt(language, length)},\n",
    "            {\"role\": \"user\", \"content\": \"Please summarize the entire training path based on these lesson summaries:\\n\\n\" + combined_prompt}\n",
    "        ]\n",
    "    )\n",
    "\n",
    "    return \"\\n\".join(all_summaries) + \"\\n\\n## General Course Summary\\n\" + response.choices[0].message.content\n",
    "    "
   ]
  },
  {
   "cell_type": "code",
   "execution_count": null,
   "id": "3d926d59-450e-4609-92ba-2d6f244f1342",
   "metadata": {},
   "outputs": [],
   "source": [
    "# A function to display this nicely in the Jupyter output, using markdown\n",
    "\n",
    "def display_summary(url, language, length):\n",
    "    summary = summarize(url, language, length)\n",
    "    display(Markdown(summary))"
   ]
  },
  {
   "cell_type": "code",
   "execution_count": null,
   "id": "09d99e28-42da-4417-9f4a-dd6c15827746",
   "metadata": {},
   "outputs": [],
   "source": [
    "# A function to display this nicely in the Jupyter output, using markdown\n",
    "\n",
    "def display_summary_all(url, language, length):\n",
    "    summary = summarize_training(url, language, length)\n",
    "    display(Markdown(summary))"
   ]
  },
  {
   "cell_type": "code",
   "execution_count": null,
   "id": "a1cefb76-bd7c-40a5-ae12-217213e192dd",
   "metadata": {},
   "outputs": [],
   "source": [
    "# A function to display this nicely in the Jupyter output, using markdown\n",
    "\n",
    "def display_summary_ollama(url, language, length):\n",
    "    summary = summarize_ollama(url, language, length)\n",
    "    display(Markdown(summary))"
   ]
  },
  {
   "cell_type": "code",
   "execution_count": null,
   "id": "64ba25f7-2cab-4f5d-87c9-de236ae894dd",
   "metadata": {},
   "outputs": [],
   "source": [
    "# A function to display this nicely in the Jupyter output, using markdown\n",
    "\n",
    "def display_summary_ollama_all(url, language, length):\n",
    "    summary = summarize_training_ollama(url, language, length)\n",
    "    display(Markdown(summary))"
   ]
  },
  {
   "cell_type": "code",
   "execution_count": null,
   "id": "f548a516-26a4-4722-b3c9-8a2aeedd4ba3",
   "metadata": {},
   "outputs": [],
   "source": [
    "def get_lesson_dropdown():\n",
    "    try:\n",
    "        return [\"All Lessons\"] + get_lesson_choices(\"https://learn.microsoft.com/en-us/training/paths/quantum-computing-fundamentals/\")\n",
    "    except:\n",
    "        return [\"All Lessons\"]"
   ]
  },
  {
   "cell_type": "code",
   "execution_count": null,
   "id": "b9010a0d-c6ec-4b6e-8470-294ba2dbb58e",
   "metadata": {},
   "outputs": [],
   "source": [
    "def summarize_choose_model(model, language, length, lesson_choice):\n",
    "    path_url = \"https://learn.microsoft.com/en-us/training/paths/quantum-computing-fundamentals/\"\n",
    "    \n",
    "    if lesson_choice == \"All Lessons\":\n",
    "        # selected_index = None\n",
    "        selected_url = path_url\n",
    "        path_url = \"https://learn.microsoft.com/en-us/training/paths/quantum-computing-fundamentals/\"\n",
    "        if model == \"GPT\":\n",
    "            result = display_summary_all(path_url, language, length)\n",
    "        elif model == \"Ollama\":\n",
    "            result = display_summary_ollama_all(path_url, language, length)\n",
    "\n",
    "    else:\n",
    "        path_url = lesson_choice\n",
    "            \n",
    "    if model == \"GPT\":\n",
    "        result = display_summary(path_url, language, length)\n",
    "    elif model == \"Ollama\":\n",
    "        result = display_summary_ollama(path_url, language, length)\n",
    "    else:\n",
    "        raise ValueError(\"Please choose a different option\")\n",
    "    return result    "
   ]
  },
  {
   "cell_type": "code",
   "execution_count": null,
   "id": "c3fc97c1-4f6d-4119-8320-e685e204a86f",
   "metadata": {
    "scrolled": true
   },
   "outputs": [],
   "source": [
    "lesson_titles = get_lesson_dropdown()\n",
    "view = gr.Interface(\n",
    "\n",
    "    fn=summarize_choose_model,\n",
    "    inputs=[gr.Dropdown([\"GPT\", \"Ollama\"], label=\"Select Model\", value=\"GPT\"), \n",
    "            gr.Dropdown([\"English\", \"Spanish\", \"French\", \"Italian\"], label=\"Select Language\", value=\"English\"), \n",
    "            gr.Dropdown([\"Short\",\"Medium\", \"Long\"], label=\"Summary Length\", value=\"Short\"),\n",
    "            gr.Dropdown(lesson_titles, label=\"Select Lesson\", value=\"All Lessons\")\n",
    "            ],\n",
    "    outputs=[gr.Markdown(label=\"Response:\")],\n",
    "    flagging_mode=\"never\"\n",
    ")\n",
    "view.launch()"
   ]
  }
 ],
 "metadata": {
  "kernelspec": {
   "display_name": "Python 3 (ipykernel)",
   "language": "python",
   "name": "python3"
  },
  "language_info": {
   "codemirror_mode": {
    "name": "ipython",
    "version": 3
   },
   "file_extension": ".py",
   "mimetype": "text/x-python",
   "name": "python",
   "nbconvert_exporter": "python",
   "pygments_lexer": "ipython3",
   "version": "3.11.13"
  }
 },
 "nbformat": 4,
 "nbformat_minor": 5
}
